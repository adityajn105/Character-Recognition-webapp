{
  "nbformat": 4,
  "nbformat_minor": 0,
  "metadata": {
    "colab": {
      "name": "Untitled3.ipynb",
      "version": "0.3.2",
      "provenance": []
    },
    "kernelspec": {
      "name": "python3",
      "display_name": "Python 3"
    }
  },
  "cells": [
    {
      "cell_type": "code",
      "metadata": {
        "id": "EzeCCH4pNTIY",
        "colab_type": "code",
        "outputId": "8fe8b11d-93db-4e74-ad56-54c157e30b3d",
        "colab": {
          "base_uri": "https://localhost:8080/",
          "height": 34
        }
      },
      "source": [
        "import numpy as np\n",
        "\n",
        "from keras.datasets import mnist\n",
        "from keras.models import Sequential\n",
        "from keras.layers import Dense,Conv2D,MaxPooling2D\n",
        "from keras.layers import Flatten,Dropout,Activation"
      ],
      "execution_count": 0,
      "outputs": [
        {
          "output_type": "stream",
          "text": [
            "Using TensorFlow backend.\n"
          ],
          "name": "stderr"
        }
      ]
    },
    {
      "cell_type": "code",
      "metadata": {
        "id": "cU2lzGTENVt9",
        "colab_type": "code",
        "outputId": "6aeaca9e-cb0e-4bee-9b72-51bf7d6644f0",
        "colab": {
          "base_uri": "https://localhost:8080/",
          "height": 139
        }
      },
      "source": [
        "#create a model\n",
        "model = Sequential()\n",
        "model.add(Conv2D(64,(5,5),input_shape=(28,28,1),data_format=\"channels_last\",strides=(1,1),padding=\"valid\",activation=\"relu\"))\n",
        "model.add(MaxPooling2D(pool_size=(2,2)))\n",
        "model.add(Conv2D(64,(3,3),activation=\"relu\",padding=\"valid\"))\n",
        "model.add(MaxPooling2D(pool_size=(2,2)))\n",
        "model.add(Dropout(0.25))\n",
        "model.add(Flatten())\n",
        "model.add(Dense(256,activation=\"relu\"))\n",
        "model.add(Dropout(0.2))\n",
        "model.add(Dense(64,activation=\"relu\"))\n",
        "model.add(Dropout(0.2))\n",
        "model.add(Dense(10))\n",
        "model.add(Activation('softmax'))"
      ],
      "execution_count": 0,
      "outputs": [
        {
          "output_type": "stream",
          "text": [
            "WARNING:tensorflow:From /usr/local/lib/python3.6/dist-packages/tensorflow/python/framework/op_def_library.py:263: colocate_with (from tensorflow.python.framework.ops) is deprecated and will be removed in a future version.\n",
            "Instructions for updating:\n",
            "Colocations handled automatically by placer.\n",
            "WARNING:tensorflow:From /usr/local/lib/python3.6/dist-packages/keras/backend/tensorflow_backend.py:3445: calling dropout (from tensorflow.python.ops.nn_ops) with keep_prob is deprecated and will be removed in a future version.\n",
            "Instructions for updating:\n",
            "Please use `rate` instead of `keep_prob`. Rate should be set to `rate = 1 - keep_prob`.\n"
          ],
          "name": "stdout"
        }
      ]
    },
    {
      "cell_type": "code",
      "metadata": {
        "id": "zOw7w2asNYN6",
        "colab_type": "code",
        "colab": {}
      },
      "source": [
        "from keras import losses\n",
        "from keras import optimizers\n",
        "sgd = optimizers.SGD(lr=0.01,decay=0.001,momentum=0.9,nesterov=True)\n",
        "adam = optimizers.Adam(lr=0.01, beta_1=0.9, beta_2=0.999, epsilon=None, decay=0.001, amsgrad=True)\n",
        "model.compile(loss=losses.categorical_crossentropy,optimizer=optimizers.Adadelta(),metrics=['accuracy'])"
      ],
      "execution_count": 0,
      "outputs": []
    },
    {
      "cell_type": "code",
      "metadata": {
        "id": "tKZB6IlfNbdW",
        "colab_type": "code",
        "outputId": "6700bfcb-2dfe-48c3-e0c1-b36f68d44edb",
        "colab": {
          "base_uri": "https://localhost:8080/",
          "height": 51
        }
      },
      "source": [
        "(trainData,trainLabels),(testData,testLabels)=mnist.load_data()\n",
        "\n",
        "#normalizaing image pixels\n",
        "trainData = trainData.reshape(len(trainData),28,28,1).astype('float32')/255\n",
        "testData = testData.reshape(len(testData),28,28,1).astype('float32')/255"
      ],
      "execution_count": 0,
      "outputs": [
        {
          "output_type": "stream",
          "text": [
            "Downloading data from https://s3.amazonaws.com/img-datasets/mnist.npz\n",
            "11493376/11490434 [==============================] - 0s 0us/step\n"
          ],
          "name": "stdout"
        }
      ]
    },
    {
      "cell_type": "code",
      "metadata": {
        "id": "1i8UWDl4NnOR",
        "colab_type": "code",
        "colab": {}
      },
      "source": [
        "from keras.utils import np_utils\n",
        "mTrainLabels = np_utils.to_categorical(trainLabels, 10)\n",
        "mTestLabels = np_utils.to_categorical(testLabels, 10)"
      ],
      "execution_count": 0,
      "outputs": []
    },
    {
      "cell_type": "code",
      "metadata": {
        "id": "T88AnSJXNqQO",
        "colab_type": "code",
        "outputId": "b04c277e-47be-4bc2-f685-56ff70465a00",
        "colab": {
          "base_uri": "https://localhost:8080/",
          "height": 462
        }
      },
      "source": [
        "batch_size=128\n",
        "epochs=10\n",
        "\n",
        "model.fit(trainData,\n",
        "        mTrainLabels,\n",
        "        validation_data=(testData,mTestLabels),\n",
        "        batch_size=batch_size,\n",
        "        verbose=1,\n",
        "        epochs=epochs\n",
        "         )"
      ],
      "execution_count": 6,
      "outputs": [
        {
          "output_type": "stream",
          "text": [
            "WARNING:tensorflow:From /usr/local/lib/python3.6/dist-packages/tensorflow/python/ops/math_ops.py:3066: to_int32 (from tensorflow.python.ops.math_ops) is deprecated and will be removed in a future version.\n",
            "Instructions for updating:\n",
            "Use tf.cast instead.\n",
            "Train on 60000 samples, validate on 10000 samples\n",
            "Epoch 1/10\n",
            "60000/60000 [==============================] - 102s 2ms/step - loss: 0.2645 - acc: 0.9159 - val_loss: 0.0464 - val_acc: 0.9838\n",
            "Epoch 2/10\n",
            "60000/60000 [==============================] - 101s 2ms/step - loss: 0.0717 - acc: 0.9791 - val_loss: 0.0376 - val_acc: 0.9875\n",
            "Epoch 3/10\n",
            "60000/60000 [==============================] - 101s 2ms/step - loss: 0.0524 - acc: 0.9847 - val_loss: 0.0260 - val_acc: 0.9913\n",
            "Epoch 4/10\n",
            "60000/60000 [==============================] - 101s 2ms/step - loss: 0.0434 - acc: 0.9877 - val_loss: 0.0261 - val_acc: 0.9916\n",
            "Epoch 5/10\n",
            "60000/60000 [==============================] - 101s 2ms/step - loss: 0.0360 - acc: 0.9894 - val_loss: 0.0225 - val_acc: 0.9925\n",
            "Epoch 6/10\n",
            "60000/60000 [==============================] - 101s 2ms/step - loss: 0.0308 - acc: 0.9905 - val_loss: 0.0203 - val_acc: 0.9936\n",
            "Epoch 7/10\n",
            "60000/60000 [==============================] - 102s 2ms/step - loss: 0.0284 - acc: 0.9917 - val_loss: 0.0215 - val_acc: 0.9932\n",
            "Epoch 8/10\n",
            "60000/60000 [==============================] - 102s 2ms/step - loss: 0.0249 - acc: 0.9925 - val_loss: 0.0200 - val_acc: 0.9932\n",
            "Epoch 9/10\n",
            "60000/60000 [==============================] - 103s 2ms/step - loss: 0.0229 - acc: 0.9929 - val_loss: 0.0219 - val_acc: 0.9926\n",
            "Epoch 10/10\n",
            "60000/60000 [==============================] - 103s 2ms/step - loss: 0.0208 - acc: 0.9941 - val_loss: 0.0222 - val_acc: 0.9927\n"
          ],
          "name": "stdout"
        },
        {
          "output_type": "execute_result",
          "data": {
            "text/plain": [
              "<keras.callbacks.History at 0x7f9e4aabdfd0>"
            ]
          },
          "metadata": {
            "tags": []
          },
          "execution_count": 6
        }
      ]
    },
    {
      "cell_type": "code",
      "metadata": {
        "id": "rOMkyZ87NsXD",
        "colab_type": "code",
        "colab": {
          "base_uri": "https://localhost:8080/",
          "height": 68
        },
        "outputId": "321b855b-4ea5-493b-d2a4-8206bc267b0f"
      },
      "source": [
        "score = model.evaluate(testData,mTestLabels,verbose=1)\n",
        "print(\"Test Loss: {}\".format(score[0]))\n",
        "print(\"Test Accuracy: {}\".format(score[1]))"
      ],
      "execution_count": 7,
      "outputs": [
        {
          "output_type": "stream",
          "text": [
            "10000/10000 [==============================] - 6s 598us/step\n",
            "Test Loss: 0.02218094000158235\n",
            "Test Accuracy: 0.9927\n"
          ],
          "name": "stdout"
        }
      ]
    },
    {
      "cell_type": "code",
      "metadata": {
        "id": "XIyqBBFGNwUV",
        "colab_type": "code",
        "colab": {}
      },
      "source": [
        "model.save_weights(\"model_cnn_1.h5\")"
      ],
      "execution_count": 0,
      "outputs": []
    },
    {
      "cell_type": "code",
      "metadata": {
        "id": "RVKEXBfqOCBN",
        "colab_type": "code",
        "colab": {}
      },
      "source": [
        ""
      ],
      "execution_count": 0,
      "outputs": []
    }
  ]
}